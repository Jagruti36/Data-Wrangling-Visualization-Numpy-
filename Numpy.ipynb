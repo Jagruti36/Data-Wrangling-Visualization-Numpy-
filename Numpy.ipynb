{
 "cells": [
  {
   "cell_type": "markdown",
   "id": "0928cb21",
   "metadata": {},
   "source": [
    "### 1. Create a null vector of size 10 but the fifth value which is 1."
   ]
  },
  {
   "cell_type": "code",
   "execution_count": 1,
   "id": "80cfedc7",
   "metadata": {},
   "outputs": [
    {
     "name": "stdout",
     "output_type": "stream",
     "text": [
      "[0 0 0 0 1 0 0 0 0 0]\n"
     ]
    }
   ],
   "source": [
    "import numpy as np\n",
    "\n",
    "\n",
    "arr = np.zeros(10,dtype = int)\n",
    "arr[4] = 1\n",
    "\n",
    "print(arr)"
   ]
  },
  {
   "cell_type": "markdown",
   "id": "698bd4e8",
   "metadata": {},
   "source": [
    "### 2. Create a vector with values ranging from 10 to 49."
   ]
  },
  {
   "cell_type": "code",
   "execution_count": 4,
   "id": "3268a39d",
   "metadata": {},
   "outputs": [
    {
     "data": {
      "text/plain": [
       "array([10, 11, 12, 13, 14, 15, 16, 17, 18, 19, 20, 21, 22, 23, 24, 25, 26,\n",
       "       27, 28, 29, 30, 31, 32, 33, 34, 35, 36, 37, 38, 39, 40, 41, 42, 43,\n",
       "       44, 45, 46, 47, 48, 49])"
      ]
     },
     "execution_count": 4,
     "metadata": {},
     "output_type": "execute_result"
    }
   ],
   "source": [
    "array_1 = np.arange(10,50)\n",
    "\n",
    "array_1"
   ]
  },
  {
   "cell_type": "markdown",
   "id": "e2b36478",
   "metadata": {},
   "source": [
    "### 3. Create a 3x3 matrix with values ranging from 0 to 8"
   ]
  },
  {
   "cell_type": "code",
   "execution_count": 5,
   "id": "0cd8bc0b",
   "metadata": {},
   "outputs": [
    {
     "name": "stdout",
     "output_type": "stream",
     "text": [
      "[[0 1 2]\n",
      " [3 4 5]\n",
      " [6 7 8]]\n"
     ]
    }
   ],
   "source": [
    "x =  np.arange(0, 9).reshape(3,3)\n",
    "print(x)"
   ]
  },
  {
   "cell_type": "markdown",
   "id": "fb261b2d",
   "metadata": {},
   "source": [
    "### 4. Find indices of non-zero elements from [1,2,0,0,4,0]"
   ]
  },
  {
   "cell_type": "code",
   "execution_count": 6,
   "id": "87919bc7",
   "metadata": {},
   "outputs": [
    {
     "name": "stdout",
     "output_type": "stream",
     "text": [
      "Original array:\n",
      "[1 2 0 0 4 0]\n",
      "\n",
      "Indices of null elements:\n",
      "(array([2, 3, 5], dtype=int64),)\n"
     ]
    }
   ],
   "source": [
    "n_array = np.array([1,2,0,0,4,0])\n",
    "\n",
    "print(\"Original array:\")\n",
    "print(n_array)\n",
    "\n",
    "# np.nonzero()\n",
    "print(\"\\nIndices of null elements:\")\n",
    "\n",
    "res = np.nonzero(n_array == 0)\n",
    "print(res)"
   ]
  },
  {
   "cell_type": "markdown",
   "id": "1337504a",
   "metadata": {},
   "source": [
    "### 5. Create a 10x10 array with random values and find the minimum and maximum values."
   ]
  },
  {
   "cell_type": "code",
   "execution_count": 7,
   "id": "0a0a0125",
   "metadata": {},
   "outputs": [
    {
     "name": "stdout",
     "output_type": "stream",
     "text": [
      "the original array [[0.97034266 0.85797901 0.57378139 0.86938651 0.59363173 0.20020882\n",
      "  0.93186368 0.30865975 0.08339909 0.81007263]\n",
      " [0.66179253 0.23452259 0.1307347  0.69251155 0.02672898 0.49976137\n",
      "  0.59793784 0.33298091 0.88630142 0.05930445]\n",
      " [0.99594522 0.32775766 0.25229597 0.79491084 0.6601397  0.63325698\n",
      "  0.62909612 0.59137919 0.14077442 0.4674482 ]\n",
      " [0.93991996 0.58835296 0.11727575 0.21058095 0.74520359 0.49715823\n",
      "  0.84007844 0.2370188  0.72803251 0.29700326]\n",
      " [0.45444424 0.56166934 0.55053067 0.47853971 0.99487535 0.41277162\n",
      "  0.90340468 0.68673144 0.01380345 0.36927994]\n",
      " [0.51907777 0.62246942 0.63379427 0.35731004 0.56910043 0.34724444\n",
      "  0.55274601 0.58911821 0.77361584 0.23542548]\n",
      " [0.72257111 0.36972976 0.35725502 0.44469996 0.43934296 0.34796538\n",
      "  0.89270228 0.84139241 0.6838643  0.00976084]\n",
      " [0.1274859  0.58126642 0.79671393 0.06851493 0.40070464 0.18254125\n",
      "  0.51509559 0.43059767 0.0136649  0.52986404]\n",
      " [0.64981187 0.39956554 0.06091802 0.21767994 0.97071997 0.54984487\n",
      "  0.48196985 0.06310299 0.75434967 0.33913883]\n",
      " [0.4955596  0.71814768 0.13515107 0.79329668 0.38976445 0.68996177\n",
      "  0.79864466 0.54838437 0.2963111  0.56331611]]\n",
      "\n",
      "\n",
      "\n",
      "the minimum value of n_array: \n",
      " 0.009760835755800223\n",
      "\n",
      "\n",
      "\n",
      "the maximun value of n_array: \n",
      " 0.99594522187693\n"
     ]
    }
   ],
   "source": [
    "import numpy as np\n",
    "n_array = np.random.random((10,10))\n",
    "\n",
    "print(\"the original array\",n_array)\n",
    "\n",
    "print(\"\\n\\n\")\n",
    "print(\"the minimum value of n_array: \\n\",n_array.min())\n",
    "      \n",
    "print(\"\\n\\n\")\n",
    "print(\"the maximun value of n_array: \\n\",n_array.max())"
   ]
  },
  {
   "cell_type": "markdown",
   "id": "9f75ba6c",
   "metadata": {},
   "source": [
    "### 6. Create a random vector of size 30 and find the mean value."
   ]
  },
  {
   "cell_type": "code",
   "execution_count": 8,
   "id": "89f1d178",
   "metadata": {},
   "outputs": [
    {
     "name": "stdout",
     "output_type": "stream",
     "text": [
      "the random array is: \n",
      " [0.4700834  0.20039913 0.75397573 0.34102356 0.53313282 0.64350702\n",
      " 0.09840404 0.13914394 0.90827336 0.27402374 0.54833795 0.7708\n",
      " 0.02076128 0.95984926 0.87664569 0.41055601 0.71333667 0.57301728\n",
      " 0.82496615 0.98650898 0.57812275 0.18032653 0.58249638 0.03628029\n",
      " 0.09153972 0.63584802 0.5135651  0.13917664 0.67869165 0.32261798]\n",
      "\n",
      "\n",
      "the mean value of array: \n",
      "  0.49351370233506475\n"
     ]
    }
   ],
   "source": [
    "import numpy as np\n",
    "\n",
    "z = np.random.random(30)\n",
    "print(\"the random array is: \\n\",z)\n",
    "\n",
    "mean_1 = z.mean()\n",
    "print(\"\\n\\nthe mean value of array: \\n \",mean_1)"
   ]
  },
  {
   "cell_type": "code",
   "execution_count": null,
   "id": "b5e9d34a",
   "metadata": {},
   "outputs": [],
   "source": []
  }
 ],
 "metadata": {
  "kernelspec": {
   "display_name": "Python 3 (ipykernel)",
   "language": "python",
   "name": "python3"
  },
  "language_info": {
   "codemirror_mode": {
    "name": "ipython",
    "version": 3
   },
   "file_extension": ".py",
   "mimetype": "text/x-python",
   "name": "python",
   "nbconvert_exporter": "python",
   "pygments_lexer": "ipython3",
   "version": "3.9.7"
  }
 },
 "nbformat": 4,
 "nbformat_minor": 5
}
